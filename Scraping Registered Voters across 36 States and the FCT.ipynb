{
 "cells": [
  {
   "cell_type": "code",
   "execution_count": 1,
   "id": "ac2e9142",
   "metadata": {},
   "outputs": [],
   "source": [
    "# import the necessary libraries\n",
    "from bs4 import BeautifulSoup\n",
    "import pandas as pd"
   ]
  },
  {
   "cell_type": "code",
   "execution_count": 2,
   "id": "0966c5a9",
   "metadata": {},
   "outputs": [],
   "source": [
    "# Create a function to load and crawl the HTML file for a given state and return soup object containing HTML data\n",
    "def load_and_crawl_html_file(state):\n",
    "    \n",
    "    # Load the HTML content from a file\n",
    "    with open(\"dataset/state_registered_voters/\"+ state +\".html\", \"r\", encoding=\"utf-8\", errors=\"ignore\") as file:\n",
    "        html_content = file.read()\n",
    "\n",
    "    # Parse the HTML content using BeautifulSoup\n",
    "    soup = BeautifulSoup(html_content, 'html.parser')\n",
    "    return soup\n",
    "    "
   ]
  },
  {
   "cell_type": "code",
   "execution_count": 3,
   "id": "fafce2c6",
   "metadata": {},
   "outputs": [],
   "source": [
    "# Create a function that export the extracted date to excel\n",
    "def export_to_excel(state):\n",
    "    # Path where the HTML files are kept\n",
    "    file_path = 'dataset/state_by_state/'\n",
    "    \n",
    "    # Create a new Excel writer object for the output file\n",
    "    excel_writer = pd.ExcelWriter(file_path+ state + \"_REG_VOTERS.xlsx\", engine='xlsxwriter')\n",
    "    \n",
    "    # call the soup object\n",
    "    soup = load_and_crawl_html_file(state)\n",
    "    tables = soup.find_all(\"table\")\n",
    "\n",
    "    # Iterate over all found tables\n",
    "    for index, table in enumerate(tables):\n",
    "        data = []  # Initialize a list to store rows for the current table\n",
    "        for row in table.find_all(\"tr\"):\n",
    "            cols = row.find_all([\"td\", \"th\"])  # This gets all table cells, header (th) or data (td)\n",
    "            cols = [ele.text.strip() for ele in cols]  # Extract text from each cell\n",
    "            data.append(cols)  # Append the row to the data list\n",
    "\n",
    "        # Create a DataFrame for the current table\n",
    "        df = pd.DataFrame(data)\n",
    "\n",
    "        # Define a sheet name based on the table index\n",
    "        sheet_name = f'Table {index + 1}'\n",
    "        # Write the DataFrame to a sheet in the Excel file\n",
    "        df.to_excel(excel_writer, sheet_name=sheet_name, index=False, header=False)\n",
    "\n",
    "    # Save the Excel file with all the tables\n",
    "    excel_writer.save()"
   ]
  },
  {
   "cell_type": "code",
   "execution_count": 15,
   "id": "579055fc",
   "metadata": {},
   "outputs": [],
   "source": [
    "# Assign a state to crawl\n",
    "state = \"OYO\"\n",
    "\n",
    "# Call the function to export data\n",
    "export_to_excel(state)"
   ]
  },
  {
   "cell_type": "code",
   "execution_count": null,
   "id": "8389d6da",
   "metadata": {},
   "outputs": [],
   "source": [
    "from bs4 import BeautifulSoup\n",
    "import pandas as pd\n",
    "\n",
    "# Load the HTML content from a file\n",
    "with open(\"path_to_your_html_file.html\", \"r\") as file:\n",
    "    html_content = file.read()\n",
    "\n",
    "# Parse the HTML content using BeautifulSoup\n",
    "soup = BeautifulSoup(html_content, 'html.parser')\n",
    "\n",
    "# Find all tables in the HTML document\n",
    "tables = soup.find_all(\"table\")\n",
    "\n",
    "# Create a new Excel writer object for the output file\n",
    "excel_writer = pd.ExcelWriter(\"output_excel_file.xlsx\", engine='xlsxwriter')\n",
    "\n",
    "# Iterate over all found tables\n",
    "for index, table in enumerate(tables):\n",
    "    data = []  # Initialize a list to store rows for the current table\n",
    "    for row in table.find_all(\"tr\"):\n",
    "        cols = row.find_all([\"td\", \"th\"])  # This gets all table cells, header (th) or data (td)\n",
    "        cols = [ele.text.strip() for ele in cols]  # Extract text from each cell\n",
    "        data.append(cols)  # Append the row to the data list\n",
    "\n",
    "    # Create a DataFrame for the current table\n",
    "    df = pd.DataFrame(data)\n",
    "    \n",
    "    # Define a sheet name based on the table index\n",
    "    sheet_name = f'Table {index + 1}'\n",
    "    # Write the DataFrame to a sheet in the Excel file\n",
    "    df.to_excel(excel_writer, sheet_name=sheet_name, index=False, header=False)\n",
    "\n",
    "# Save the Excel file with all the tables\n",
    "excel_writer.save()"
   ]
  }
 ],
 "metadata": {
  "kernelspec": {
   "display_name": "Python 3 (ipykernel)",
   "language": "python",
   "name": "python3"
  },
  "language_info": {
   "codemirror_mode": {
    "name": "ipython",
    "version": 3
   },
   "file_extension": ".py",
   "mimetype": "text/x-python",
   "name": "python",
   "nbconvert_exporter": "python",
   "pygments_lexer": "ipython3",
   "version": "3.9.12"
  }
 },
 "nbformat": 4,
 "nbformat_minor": 5
}
